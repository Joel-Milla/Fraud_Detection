{
 "cells": [
  {
   "cell_type": "markdown",
   "id": "2c5d865b-4c42-4f01-ac10-d28274c61ee2",
   "metadata": {},
   "source": [
    "# Fraud Detection\n",
    "This project will fit and assess a model to predict whether a transaction is a fraud or not.\n",
    "\n",
    "**Data sources**\n",
    "\n",
    "- Kaggle: [Synthetic Financial Datasets For Fraud Detection](https://www.kaggle.com/datasets/ealaxi/paysim1) \n",
    "\n",
    "For this project, instead of using the file `transactions.csv` that contains 200,000 observations, a modified dataset (`transactions_modified.csv`) will be used which contains only 1,000 observations."
   ]
  },
  {
   "cell_type": "markdown",
   "id": "9626a7fc-3f3e-4723-9d99-070d12d881f9",
   "metadata": {},
   "source": [
    "## Import Python Modules\n",
    "\n",
    "First, import the preliminary modules that will be used in this project:"
   ]
  },
  {
   "cell_type": "code",
   "execution_count": 2,
   "id": "dea2b99e-3962-422e-b523-e662f1846413",
   "metadata": {},
   "outputs": [],
   "source": [
    "import seaborn\n",
    "import pandas as pd\n",
    "import numpy as np\n",
    "import matplotlib.pyplot as plt\n",
    "from sklearn.linear_model import LogisticRegression\n",
    "from sklearn.model_selection import train_test_split\n",
    "from sklearn.preprocessing import StandardScaler"
   ]
  },
  {
   "cell_type": "code",
   "execution_count": null,
   "id": "2fb743d7-bc5a-4fb5-8e9c-fc479e43545f",
   "metadata": {},
   "outputs": [],
   "source": []
  }
 ],
 "metadata": {
  "kernelspec": {
   "display_name": "Python 3 (ipykernel)",
   "language": "python",
   "name": "python3"
  },
  "language_info": {
   "codemirror_mode": {
    "name": "ipython",
    "version": 3
   },
   "file_extension": ".py",
   "mimetype": "text/x-python",
   "name": "python",
   "nbconvert_exporter": "python",
   "pygments_lexer": "ipython3",
   "version": "3.10.13"
  }
 },
 "nbformat": 4,
 "nbformat_minor": 5
}
